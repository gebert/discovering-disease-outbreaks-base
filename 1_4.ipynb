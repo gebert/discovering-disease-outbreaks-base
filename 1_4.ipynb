{
 "cells": [
  {
   "cell_type": "code",
   "execution_count": null,
   "metadata": {},
   "outputs": [],
   "source": [
    "import re\n",
    "import geonamescache\n",
    "import pandas as pd\n",
    "import numpy as np\n",
    "from unidecode import unidecode\n",
    "\n",
    "gc = geonamescache.GeonamesCache()\n",
    "countries = gc.get_countries()\n",
    "cities = gc.get_cities()\n",
    "df = pd.DataFrame()\n",
    "\n",
    "countries_str = '|'.join(sorted((unidecode(x[\"name\"]) for x in countries.values()), key=len, reverse=True))\n",
    "cities_str = '|'.join(sorted((unidecode(x[\"name\"]) for x in cities.values()), key=len, reverse=True))\n",
    "\n",
    "#regexp_co = re.compile(r'\\b(?P<Country>'+countries_str+r')\\b', flags=re.IGNORECASE)\n",
    "regexp_co = re.compile(r'\\b(?P<Country>'+countries_str+r')\\b')\n",
    "regexp_ci = re.compile(r'\\b(?P<City>'+cities_str+r')\\b')\n",
    "\n",
    "file = open(\"./data/headlines.txt\", 'r')\n",
    "for line in file.readlines():\n",
    "    co = np.nan\n",
    "    ci = np.nan\n",
    "    \n",
    "    result_co = regexp_co.search(line)\n",
    "    if result_co:\n",
    "        co = result_co.group('Country')\n",
    "\n",
    "    result_ci = regexp_ci.search(line)\n",
    "    if result_ci:\n",
    "        ci = result_ci.group('City')\n",
    "    \n",
    "    df = pd.concat([df, pd.DataFrame([[line.rstrip(), co, ci]], columns=['headline', 'countries', 'cities'])], ignore_index=True)\n",
    "file.close()\n",
    "print(df)"
   ]
  },
  {
   "cell_type": "code",
   "execution_count": null,
   "metadata": {},
   "outputs": [],
   "source": []
  }
 ],
 "metadata": {
  "kernelspec": {
   "display_name": "Python 3",
   "language": "python",
   "name": "python3"
  },
  "language_info": {
   "codemirror_mode": {
    "name": "ipython",
    "version": 3
   },
   "file_extension": ".py",
   "mimetype": "text/x-python",
   "name": "python",
   "nbconvert_exporter": "python",
   "pygments_lexer": "ipython3",
   "version": "3.7.6"
  }
 },
 "nbformat": 4,
 "nbformat_minor": 4
}
